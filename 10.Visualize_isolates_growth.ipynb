{
 "cells": [
  {
   "cell_type": "code",
   "execution_count": null,
   "id": "6ac9eb14-0c1a-4142-87aa-00a68f24d284",
   "metadata": {},
   "outputs": [],
   "source": [
    "# Install and read the recquired packages \n",
    "install.packages(\"tidyverse\")\n",
    "install.packages(\"cowplot\")\n",
    "\n",
    "library(tidyverse)\n",
    "library(cowplot)\n"
   ]
  },
  {
   "cell_type": "code",
   "execution_count": null,
   "id": "48593ae1-f9e2-4403-b0f7-54cfc253bed7",
   "metadata": {},
   "outputs": [],
   "source": [
    "# Import csv OD file as variable 'a1'\n",
    "a1 = read.csv(file = '1_20.csv', sep = ';', dec = ',',header = TRUE)"
   ]
  },
  {
   "cell_type": "code",
   "execution_count": null,
   "id": "a1c55d93-2070-4d45-86e1-c8760aee327d",
   "metadata": {},
   "outputs": [],
   "source": [
    "# Plot growth curves \n",
    "ggplot(a1, aes(x = Time, y = (OD), ymin = (OD) - SD, ymax = (OD) + SD, color = Condition, fill = Condition))+ # Replace 'Condidtion' with what was used as header \n",
    "  geom_ribbon(color = F, alpha = 0.08)+ # alpha goes from 0-1 and it changes how smooth the curve is \n",
    "  geom_line()+\n",
    "  ylab(\"OD (600 nm)\")+ \n",
    "  xlab(\"Time (h)\")+ \n",
    "  ggtitle(\"Título\")+ \n",
    "  scale_color_manual(values = rainbow(8))+ # Change the number according to the number of conditions. ex.: 6 isolates = rainbow(6)\n",
    "  theme_classic()+\n",
    "  theme(plot.title = element_text(size = 16, hjust = 0.5))+\n",
    "  scale_y_continuous(trans = \"log\", breaks = c(0.1, 0.2, 0.3, 0.4, 0.5, 1.0, 1.5, 2.0))+ # Change the OD scale \n",
    "  scale_x_continuous(expand = c(0,0), breaks = c(0,2,4,6,8,10,12,14,16,18,20,22,24,26,28,30)) # Change the time scale"
   ]
  }
 ],
 "metadata": {
  "kernelspec": {
   "display_name": "R",
   "language": "R",
   "name": "ir"
  },
  "language_info": {
   "codemirror_mode": "r",
   "file_extension": ".r",
   "mimetype": "text/x-r-source",
   "name": "R",
   "pygments_lexer": "r",
   "version": "4.4.1"
  }
 },
 "nbformat": 4,
 "nbformat_minor": 5
}
