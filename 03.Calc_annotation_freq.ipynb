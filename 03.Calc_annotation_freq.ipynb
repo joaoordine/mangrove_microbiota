{
 "cells": [
  {
   "cell_type": "code",
   "execution_count": null,
   "id": "a45973aa-e5a6-44e5-905f-315f55ea0006",
   "metadata": {},
   "outputs": [],
   "source": [
    "# Calculate mean and SD by group of frequence aligment - percentage of reads that were annotated using that database\n",
    "library(dplyr)\n",
    "summary_stats <- ReadCounts_TaxAnnotation %>%\n",
    "  group_by(Mangrove) %>%\n",
    "  summarise(mean_FreqAlignment = mean(FreqAlignment, na.rm = TRUE),\n",
    "            sd_FreqAlignment = sd(FreqAlignment, na.rm = TRUE))\n",
    "print(summary_stats) # Print the summary statistics\n",
    "write.table(summary_stats, file = \"freqalignment_stats.tsv\", sep = \"\\t\", row.names = FALSE)"
   ]
  }
 ],
 "metadata": {
  "kernelspec": {
   "display_name": "R",
   "language": "R",
   "name": "ir"
  },
  "language_info": {
   "codemirror_mode": "r",
   "file_extension": ".r",
   "mimetype": "text/x-r-source",
   "name": "R",
   "pygments_lexer": "r",
   "version": "4.4.1"
  }
 },
 "nbformat": 4,
 "nbformat_minor": 5
}
