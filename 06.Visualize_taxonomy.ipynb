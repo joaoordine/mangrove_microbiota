{
 "cells": [
  {
   "cell_type": "code",
   "execution_count": null,
   "id": "e912b9d5-9027-47a1-a345-28c1e33669fd",
   "metadata": {},
   "outputs": [],
   "source": [
    "# Visualize taxonomy in different taxonomical levels \n",
    "## Loading packages\n",
    "library(tidyverse)\n",
    "library(data.table)\n",
    "library(reshape2)\n",
    "library(reshape)\n",
    "library(ggplot2)\n",
    "library(RColorBrewer)\n",
    "library(vegan)\n",
    "library(phyloseq)\n",
    "library(dplyr) \n",
    "library(ggpubr)\n",
    "library(Hmisc)\n",
    "library(corrplot)\n",
    "library(scales)\n",
    "library(broom)\n",
    "library(ecodist)"
   ]
  },
  {
   "cell_type": "code",
   "execution_count": null,
   "id": "6dd66899-df3c-48cd-a0f0-1d49cf0d4598",
   "metadata": {},
   "outputs": [],
   "source": [
    "## Phylum ------------------- \n",
    "### Parameters to set before running and Choosing the taxonomic level to plot \n",
    "df <- aggregate(ReadCounts_TaxAnnotation$Counts, list(ReadCounts_TaxAnnotation$Phylum, ReadCounts_TaxAnnotation$ID_Sample), FUN=sum) #  aggregates counts based on the ID_Sample\n",
    "colnames(df) <- c(\"Taxa\", \"ID_Sample\", \"Counts\")\n",
    "cast_data = acast(df, ID_Sample ~ Taxa) # casts data into a new format\n",
    "cast_data[is.na(cast_data)] <- 0 # checks for missing values and replaces them with 0 if found\n"
   ]
  },
  {
   "cell_type": "code",
   "execution_count": null,
   "id": "44d1c64a-dacc-423c-b904-98da89c94cba",
   "metadata": {},
   "outputs": [],
   "source": [
    "### Creating the relative abundance data.frame\n",
    "tcast_data <- t(cast_data)\n",
    "relative_abundance <- (t(tcast_data) / apply(tcast_data, 2, sum))*100\n",
    "df_relab <- melt(relative_abundance) #  reshapes the data frame\n",
    "colnames(df_relab) <- c(\"ID_Sample\", \"Taxa\", \"RelativeAbundance\") # Column names are set for the reshaped data frame\n",
    "df_relab <- df_relab[-which(df_relab$RelativeAbundance == 0),] # Rows with zero relative abundance are removed.\n",
    "df_relabmeta <- merge(df_relab, metadata, by = \"ID_Sample\") # Metadata is merged with the relative abundance data frame\n",
    "\n"
   ]
  },
  {
   "cell_type": "code",
   "execution_count": null,
   "id": "e8bf4527-0426-423d-b954-d59cc074f1e7",
   "metadata": {},
   "outputs": [],
   "source": [
    "### Set plot parameters\n",
    "options(repr.plot.width=15, repr.plot.height=8)\n",
    "\n",
    "group <- c(\"Araçá\", \"Colhereiro\")\n",
    "\n",
    "df_relabmeta$Mangrove <- factor(df_relabmeta$Mangrove, levels = group, ordered = TRUE)\n",
    "colourCount = length(unique(df_relabmeta$Taxa)) + 10 # calculates the number of unique taxa plus 10\n",
    "getPalette = colorRampPalette(brewer.pal(9, \"Set1\")) # generates a color palette using the RColorBrewer package\n"
   ]
  },
  {
   "cell_type": "code",
   "execution_count": null,
   "id": "4487d411-ffac-4a03-bb8e-209970e435f4",
   "metadata": {},
   "outputs": [],
   "source": [
    "### Plot\n",
    "phylum <- ggplot(data = df_relabmeta, aes(x=ID_Sample, y=RelativeAbundance, fill=Taxa)) + \n",
    "                 geom_bar(stat=\"identity\", width=1, position=\"stack\") +\n",
    "                 facet_grid(~ Mangrove, scales = \"free\", space = \"free\") +\n",
    "                 scale_fill_manual(values=getPalette(colourCount)) +\n",
    "                 labs(x = \"\", y = \"Relative Abundance %\") +\n",
    "                 theme_bw() + guides(fill=guide_legend(ncol=2))  +\n",
    "                 theme(#panel.border = element_rect(colour = \"black\", fill=NA, size=1),\n",
    "                       #axis.text.x = element_text(angle = 90, size = 6, face = \"bold\", colour = \"black\"),\n",
    "                       axis.title.x=element_blank(),\n",
    "                       axis.text.x=element_blank(),\n",
    "                       axis.ticks.x=element_blank(),\n",
    "                       axis.text.y = element_text(angle = 0, size = 16, face = \"bold\", colour = \"black\"),\n",
    "                       axis.title=element_text(size=20, face = \"bold\", colour = \"black\"),\n",
    "                       strip.text.x = element_text(size = 16, face = \"bold\", colour = \"black\"),\n",
    "                       strip.background = element_rect(fill=\"white\"),\n",
    "                       legend.title=element_blank(), \n",
    "                       legend.text=element_text(size=12, face = \"bold\"))\n",
    "print(phylum)\n"
   ]
  },
  {
   "cell_type": "code",
   "execution_count": null,
   "id": "6595e4c9-7da4-4208-9bdf-67b6a56ad11e",
   "metadata": {},
   "outputs": [],
   "source": [
    "## Family ------------------- \n",
    "### Parameters to set before running and Choosing taxonomic level to plot \n",
    "df1 <- aggregate(ReadCounts_TaxAnnotation$Counts, list(ReadCounts_TaxAnnotation$Family, ReadCounts_TaxAnnotation$ID_Sample), FUN=sum) #  aggregates counts based on the ID_Sample\n",
    "colnames(df1) <- c(\"Taxa\", \"ID_Sample\", \"Counts\")\n",
    "cast_data = acast(df1, ID_Sample ~ Taxa) # casts data into a new format\n",
    "cast_data[is.na(cast_data)] <- 0 # checks for missing values and replaces them with 0 if found\n"
   ]
  },
  {
   "cell_type": "code",
   "execution_count": null,
   "id": "ab7faf47-257c-48e2-9402-2a40d74f57d7",
   "metadata": {},
   "outputs": [],
   "source": [
    "### Creating the relative abundance data.frame\n",
    "tcast_data <- t(cast_data)\n",
    "relative_abundance <- (t(tcast_data) / apply(tcast_data, 2, sum))*100\n",
    "df_relab <- melt(relative_abundance) #  reshapes the data frame\n",
    "colnames(df_relab) <- c(\"ID_Sample\", \"Taxa\", \"RelativeAbundance\") # Column names are set for the reshaped data frame\n",
    "df_relab <- df_relab[-which(df_relab$RelativeAbundance == 0),] # Rows with zero relative abundance are removed.\n",
    "df_relabmeta <- merge(df_relab, metadata, by = \"ID_Sample\") # Metadata is merged with the relative abundance data frame\n"
   ]
  },
  {
   "cell_type": "code",
   "execution_count": null,
   "id": "4ea5d7e6-56c5-4aba-8683-edff7077417e",
   "metadata": {},
   "outputs": [],
   "source": [
    "### Set plot parameters\n",
    "options(repr.plot.width=15, repr.plot.height=8)\n",
    "\n",
    "group <- c(\"Araçá\", \"Colhereiro\")\n",
    "\n",
    "df_relabmeta$Mangrove <- factor(df_relabmeta$Mangrove, levels = group, ordered = TRUE)\n",
    "colourCount = length(unique(df_relabmeta$Taxa)) + 10 # calculates the number of unique taxa plus 10\n",
    "getPalette = colorRampPalette(brewer.pal(9, \"Set1\")) # generates a color palette using the RColorBrewer package\n"
   ]
  },
  {
   "cell_type": "code",
   "execution_count": null,
   "id": "86eda215-0384-4a55-9690-571a76164ee4",
   "metadata": {},
   "outputs": [],
   "source": [
    "### Plot\n",
    "family <- ggplot(data = df_relabmeta, aes(x=ID_Sample, y=RelativeAbundance, fill=Taxa)) + \n",
    "                 geom_bar(stat=\"identity\", width=1, position=\"stack\") +\n",
    "                 facet_grid(~ Mangrove, scales = \"free\", space = \"free\") +\n",
    "                 scale_fill_manual(values=getPalette(colourCount)) +\n",
    "                 labs(x = \"\", y = \"Relative Abundance %\") +\n",
    "                 theme_bw() + guides(fill=guide_legend(ncol=2))  +\n",
    "                 theme(#panel.border = element_rect(colour = \"black\", fill=NA, size=1),\n",
    "                       #axis.text.x = element_text(angle = 90, size = 6, face = \"bold\", colour = \"black\"),\n",
    "                       axis.title.x=element_blank(),\n",
    "                       axis.text.x=element_blank(),\n",
    "                       axis.ticks.x=element_blank(),\n",
    "                       axis.text.y = element_text(angle = 0, size = 16, face = \"bold\", colour = \"black\"),\n",
    "                       axis.title=element_text(size=20, face = \"bold\", colour = \"black\"),\n",
    "                       strip.text.x = element_text(size = 16, face = \"bold\", colour = \"black\"),\n",
    "                       strip.background = element_rect(fill=\"white\"),\n",
    "                       legend.title=element_blank(), \n",
    "                       legend.text=element_text(size=12, face = \"bold\"))\n",
    "print(family) # not a really good visualization, it's better to include a category others  \n"
   ]
  },
  {
   "cell_type": "code",
   "execution_count": null,
   "id": "915de2b1-7084-414f-ac93-32f2e22cc95e",
   "metadata": {},
   "outputs": [],
   "source": [
    "## Genus ------------------- \n",
    "### Parameters to set before running and Choosing taxonomic level to plot \n",
    "df2 <- aggregate(ReadCounts_TaxAnnotation$Counts, list(ReadCounts_TaxAnnotation$Genus, ReadCounts_TaxAnnotation$ID_Sample), FUN=sum) #  aggregates counts based on the ID_Sample\n",
    "colnames(df2) <- c(\"Taxa\", \"ID_Sample\", \"Counts\")\n",
    "cast_data = acast(df2, ID_Sample ~ Taxa) # casts data into a new format\n",
    "cast_data[is.na(cast_data)] <- 0 # checks for missing values and replaces them with 0 if found\n"
   ]
  },
  {
   "cell_type": "code",
   "execution_count": null,
   "id": "91347441-0729-44c8-8738-71a244c14208",
   "metadata": {},
   "outputs": [],
   "source": [
    "### Creating the relative abundance data.frame\n",
    "tcast_data <- t(cast_data)\n",
    "relative_abundance <- (t(tcast_data) / apply(tcast_data, 2, sum))*100\n",
    "df_relab <- melt(relative_abundance) #  reshapes the data frame\n",
    "colnames(df_relab) <- c(\"ID_Sample\", \"Taxa\", \"RelativeAbundance\") # Column names are set for the reshaped data frame\n",
    "df_relab <- df_relab[-which(df_relab$RelativeAbundance == 0),] # Rows with zero relative abundance are removed.\n",
    "df_relabmeta <- merge(df_relab, metadata, by = \"ID_Sample\") # Metadata is merged with the relative abundance data frame\n"
   ]
  },
  {
   "cell_type": "code",
   "execution_count": null,
   "id": "7cd11a98-3150-460f-8830-9f013426aab6",
   "metadata": {},
   "outputs": [],
   "source": [
    "### Filtering genera \n",
    "df_relabmeta_filt <- subset(df_relabmeta, RelativeAbundance > 1.5) # Filter the data to include only taxa whose relative abundance is greater than 1.5%\n",
    "\n",
    "df_relabmeta_filt2 <- select(df_relabmeta_filt, -V., -ID, -pH, -Ca, -H.Al, -OM, -Mg, -SB, -Number_Reads, -Collection_month, -P, -K, -CTC) # Remove unecessary columns for this plot by column name\n",
    "\n",
    "low_abundance_taxa <- df_relabmeta %>%\n",
    "  filter(RelativeAbundance <= 1.5) %>%\n",
    "  group_by(ID_Sample) %>%\n",
    "  summarise(RelativeAbundance = sum(RelativeAbundance)) # filter out those below 1.5%\n"
   ]
  },
  {
   "cell_type": "code",
   "execution_count": null,
   "id": "c7aac433-fe33-423a-9e6f-68ed1786c97c",
   "metadata": {},
   "outputs": [],
   "source": [
    "### Manual adjustments - Save both tables and join them by hand since there aren't many rows. Add \"Others\" in the end so it get's stacked in the bottom of the bar chart \n",
    "write.table(df_relabmeta_filt2, file = \"RelAbund_Genera_above15.tsv\", sep = \"\\t\", row.names = FALSE)\n",
    "write.table(low_abundance_taxa, file = \"RelAbund_LowGenera_below15.tsv\", sep = \"\\t\", row.names = FALSE)\n",
    " \n",
    "## Imported this dataframe back to R "
   ]
  },
  {
   "cell_type": "code",
   "execution_count": null,
   "id": "4be8d41a-aa1d-4afa-8be0-e2dc861d65cd",
   "metadata": {},
   "outputs": [],
   "source": [
    "### Set plot parameters\n",
    "RelAbund_Genera_above15_W_Others$Mangrove <- factor(RelAbund_Genera_above15_W_Others$Mangrove, levels = group, ordered = TRUE)\n",
    "\n",
    "purples <- brewer.pal(n = 5, name = \"BuPu\")[-c(1:4)] # taking a few colors from the RColorBrewer Package\n",
    "blues <- rev(brewer.pal(n = 5, name = \"Blues\")[-1])\n",
    "greens <- brewer.pal(n = 5, name = \"YlGn\")[-1]\n",
    "oranges <- c(\"#FFEC8B\", \"#FECC5C\", \"#fe9a4d\", \"#fe6f01\") # appending some nice oranges, reds, purples, beiges and aquamarines\n",
    "reds <- c(\"#b30024\", \"#ff0033\", \"#ff554d\", \"#ff9e99\")\n",
    "purples <- append(purples, c(\"#ac39ac\", \"#cc66cc\", \"#ffb3ff\"))\n",
    "beiges <- c(\"#999966\", \"#adad85\", \"#ccccb3\")\n",
    "aquamarines <- c(\"#25a696\", \"#43d6c5\", \"#96e8df\")\n",
    "pinks <- c(\"#9F2B68\", \"#F33A6A\")\n",
    "gray <- c(\"#808080\")\n",
    "custom_colors <- c(blues, reds, oranges, greens, purples, rev(beiges), aquamarines, pinks, gray) # combinig all colors in a single vector\n"
   ]
  },
  {
   "cell_type": "code",
   "execution_count": null,
   "id": "736d202e-186b-4a7a-bed5-4db60115c26b",
   "metadata": {},
   "outputs": [],
   "source": [
    "### Plot\n",
    "genus <- ggplot(data = RelAbund_Genera_above15_W_Others, aes(x=ID_Sample, y=RelativeAbundance, fill=reorder(Taxa, --RelativeAbundance))) + \n",
    "                 geom_bar(stat=\"identity\", position=\"stack\", colour = \"black\") +\n",
    "                 facet_grid(~ Mangrove, scales = \"free\", space = \"free\") +\n",
    "                 scale_fill_manual(values = custom_colors) +\n",
    "                 labs(x = \"\", y = \"Relative Abundance %\") +\n",
    "                 theme_bw() + guides(fill=guide_legend(ncol=2), title = \"Genera\")  +\n",
    "                 theme(axis.title.x=element_blank(),\n",
    "                       axis.text.x=element_blank(),\n",
    "                       axis.ticks.x=element_blank(),\n",
    "                       axis.text.y = element_text(angle = 0, size = 16, face = \"bold\", colour = \"black\"),\n",
    "                       axis.title=element_text(size=20, face = \"bold\", colour = \"black\"),\n",
    "                       strip.text.x = element_text(size = 16, face = \"bold\", colour = \"black\"),\n",
    "                       strip.background = element_rect(fill=\"white\"),\n",
    "                       legend.title=element_blank(), \n",
    "                       legend.text=element_text(size=12, face = \"bold\") \n",
    "  ) \n",
    "print(genus)"
   ]
  }
 ],
 "metadata": {
  "kernelspec": {
   "display_name": "R",
   "language": "R",
   "name": "ir"
  },
  "language_info": {
   "codemirror_mode": "r",
   "file_extension": ".r",
   "mimetype": "text/x-r-source",
   "name": "R",
   "pygments_lexer": "r",
   "version": "4.4.1"
  }
 },
 "nbformat": 4,
 "nbformat_minor": 5
}
