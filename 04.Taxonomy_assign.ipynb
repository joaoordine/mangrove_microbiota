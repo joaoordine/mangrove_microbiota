{
 "cells": [
  {
   "cell_type": "code",
   "execution_count": null,
   "id": "404d3929-d385-4de7-aaeb-5b35b8abbdeb",
   "metadata": {},
   "outputs": [],
   "source": [
    "# Assigning taxonomy to nanopore reads\n",
    "library(tidyverse) \n",
    "getwd()\n",
    "setwd(\"/home/strawberry/Documents/Collaborations/mangrove/analyses_R/data\") # changing work directory to data "
   ]
  },
  {
   "cell_type": "code",
   "execution_count": null,
   "id": "f0d6c726-d136-4d3e-9f50-b0e135b65c8c",
   "metadata": {},
   "outputs": [],
   "source": [
    "## Loading reference file (linking refseq accession number and taxID) - this file was obtained parsing gff3 file provided by NCBI \n",
    "RefseqTaxID <- read.delim(\"./RefseqTaxID.txt\", h=T)\n",
    "\n",
    "## Loading TaxID full lineage file \n",
    "TaxID_FullLineage <- read.delim(\"./referencetable_taxonomy_RefseqNCBI_16S.txt\", quote = \"\")\n",
    "\n",
    "## Loading metadata file including read counts after quality check\n",
    "metadata <- read.delim(\"./metadata_nreads.tsv\", h=T)\n",
    "\n",
    "## REPO with kma output\n",
    "fragfiles <- list.files(\"./\", pattern = \".frag$\")\n"
   ]
  },
  {
   "cell_type": "code",
   "execution_count": null,
   "id": "00c6699f-72f1-49b0-b031-893964d827dd",
   "metadata": {},
   "outputs": [],
   "source": [
    "## Start loop \n",
    "dfall <- NULL # beggnining with an empty vector \n",
    "\n",
    "for(i in 1:length(fragfiles)){ \n",
    "    tab <- read.delim(fragfiles[i], h=F) \n",
    "    freqtab <- table(gsub(\" .*\", \"\", tab$V6))\n",
    "    df <- data.frame(Refseq = names(freqtab), Counts = as.numeric(freqtab))\n",
    "    dfTaxID <- merge(RefseqTaxID, df, by = \"Refseq\")\n",
    "    freqtable_tax <- merge(dfTaxID, TaxID_FullLineage, by.x = \"TaxID\", by.y = \"id\")\n",
    "    freqtable_tax$ID_Sample <- gsub(\"_filt_kma\\\\.frag$\", \"\", gsub(\".*-\", \"\", fragfiles[i]))\n",
    "    freqtable_tax_metadata <- merge(freqtable_tax, metadata, by = \"ID_Sample\")\n",
    "    freqtable_tax_metadata$RelativeAbundance <- ((freqtable_tax_metadata$Counts)/sum(freqtable_tax_metadata$Counts))*100\n",
    "    freqtable_tax_metadata$FreqAlignment <- (sum(freqtable_tax_metadata$Counts)/freqtable_tax_metadata$Number_Reads)*100\n",
    "    dfall <- rbind(dfall, freqtable_tax_metadata)\n",
    "}\n",
    "write.table(dfall, \"ReadCounts_TaxAnnotation.txt\", quote = F, sep = \"\\t\", row.names = F)"
   ]
  }
 ],
 "metadata": {
  "kernelspec": {
   "display_name": "R",
   "language": "R",
   "name": "ir"
  },
  "language_info": {
   "codemirror_mode": "r",
   "file_extension": ".r",
   "mimetype": "text/x-r-source",
   "name": "R",
   "pygments_lexer": "r",
   "version": "4.4.1"
  }
 },
 "nbformat": 4,
 "nbformat_minor": 5
}
