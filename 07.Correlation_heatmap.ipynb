{
 "cells": [
  {
   "cell_type": "code",
   "execution_count": null,
   "id": "855ee862-f083-4798-94f2-64e2914374d2",
   "metadata": {},
   "outputs": [],
   "source": [
    "# Correlation analysis \n",
    "library(corrplot)"
   ]
  },
  {
   "cell_type": "code",
   "execution_count": null,
   "id": "6c7514bc-0034-4d2a-8e5f-156954126d93",
   "metadata": {},
   "outputs": [],
   "source": [
    "## Processing df_relabmeta_filt2 df to ensure all taxa have rel abund above 1.5% and getting only unique taxa \n",
    "above1.5_taxa <- df_relabmeta_filt2 |> \n",
    "  filter(RelativeAbundance >= 1.5) |>\n",
    "  pull(Taxa) |>\n",
    "  unique()\n",
    "\n",
    "above2.5_taxa <- df_relabmeta_filt2 |> \n",
    "  filter(RelativeAbundance >= 2.5) |>\n",
    "  pull(Taxa) |>\n",
    "  unique()\n",
    "above2.5_taxa \n",
    "\n",
    "correlation_data <- df_relabmeta_filt2 %>%\n",
    "              filter(Taxa %in% above2.5_taxa ) %>%\n",
    "              select(ID_Sample, Taxa, RelativeAbundance) %>% \n",
    "              pivot_wider(names_from = Taxa, values_from = RelativeAbundance) %>%\n",
    "              column_to_rownames(var = \"ID_Sample\")\n",
    "correlation_data[is.na(correlation_data)] <- 0\n",
    "\n",
    "araca_correlation_data <- correlation_data[1:4, ]  # Filter araca replicates rows (1-4)\n",
    "colhereiro_correlation_data <- correlation_data[5:8, ] # Filter colhereiro replicates rows (5-8)\n",
    "araca_correlation_data[is.na(araca_correlation_data)] <- 0\n",
    "colhereiro_correlation_data[is.na(colhereiro_correlation_data)] <- 0\n",
    "\n",
    "cor_araca <- cor(araca_correlation_data, method = \"spearman\")\n",
    "cor_colhereiro <- cor(colhereiro_correlation_data, method = \"spearman\") # Spearman correlation: is a non-parametric measure of rank correlation and assesses how well a relationship between two variables can be described using a monotonic function\n",
    "cor_araca[is.na(cor_araca)] <- 0\n",
    "cor_colhereiro[is.na(cor_colhereiro)] <- 0\n"
   ]
  },
  {
   "cell_type": "code",
   "execution_count": null,
   "id": "095dd48b-acbb-4655-88e3-081eba74bca1",
   "metadata": {},
   "outputs": [],
   "source": [
    "## Manual modifications before plotting \n",
    "### Remove columns and rows Maribellus, Microbulbifer, and Priestia from araca- absent in araca mangrove and make the plot ugly \n",
    "cor_araca <- cor_araca[, !colnames(cor_araca) %in% c(\"Maribellus\", \"Microbulbifer\", \"Priestia\")]\n",
    "cor_araca <- cor_araca[!rownames(cor_araca) %in% c(\"Maribellus\", \"Microbulbifer\", \"Priestia\"), ]\n",
    "\n",
    "### Remove columns and rows Alteraurantiacibacter, Flavilitoribacter, Spelaeonaias, Vicinamibacter, and Cyanothece from colhereiro- absent in colhereiro mangrove and make the plot ugly \n",
    "cor_colhereiro <- cor_colhereiro[, !colnames(cor_colhereiro) %in% c(\"Alteraurantiacibacter\", \"Flavilitoribacter\", \"Spelaeonaias\", \"Vicinamibacter\", \"Cyanothece\")]\n",
    "cor_colhereiro <- cor_colhereiro[!rownames(cor_colhereiro) %in% c(\"Alteraurantiacibacter\", \"Flavilitoribacter\", \"Spelaeonaias\", \"Vicinamibacter\", \"Cyanothece\"), ]\n"
   ]
  },
  {
   "cell_type": "code",
   "execution_count": null,
   "id": "c9ed2ada-d295-43a3-8f96-d5926ddc4a64",
   "metadata": {},
   "outputs": [],
   "source": [
    "## Plot \n",
    "corrplot_araca <- corrplot(cor_araca, tl.col = \"black\", order = \"hclust\", hclust.method = \"average\", tl.cex = 1, font.style = \"italic\", family = \"Arial\") \n",
    "corrplot_colhereiro <- corrplot(cor_colhereiro, tl.col = \"black\", order = \"hclust\", hclust.method = \"average\", tl.cex = 1, font.style = \"italic\", family = \"Arial\") "
   ]
  }
 ],
 "metadata": {
  "kernelspec": {
   "display_name": "R",
   "language": "R",
   "name": "ir"
  },
  "language_info": {
   "codemirror_mode": "r",
   "file_extension": ".r",
   "mimetype": "text/x-r-source",
   "name": "R",
   "pygments_lexer": "r",
   "version": "4.4.1"
  }
 },
 "nbformat": 4,
 "nbformat_minor": 5
}
