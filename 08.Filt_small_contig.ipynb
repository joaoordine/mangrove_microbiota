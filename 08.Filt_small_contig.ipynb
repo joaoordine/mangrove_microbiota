{
 "cells": [
  {
   "cell_type": "markdown",
   "id": "2a3339fc-15c1-4441-9c60-14547c516843",
   "metadata": {},
   "source": [
    "# Filtering contigs with less than 200 nt"
   ]
  },
  {
   "cell_type": "code",
   "execution_count": null,
   "id": "e141675c-962c-499e-b262-569be9196eba",
   "metadata": {},
   "outputs": [],
   "source": [
    "## Install and load the Biostrings package if not already installed\n",
    "if (!requireNamespace(\"Biostrings\", quietly = TRUE)) {\n",
    "  install.packages(\"Biostrings\")\n",
    "}\n",
    "library(Biostrings)"
   ]
  },
  {
   "cell_type": "code",
   "execution_count": null,
   "id": "1724d13a-e5b1-4dac-9c6b-7fcdc46d75b8",
   "metadata": {},
   "outputs": [],
   "source": [
    "## Set the working directory to the location of your scaffold FASTA files\n",
    "setwd(\"/home/joao/Documents/IC3/Collaborations/Mangrove_Microbiota/WGS/all_scaffolds\")\n"
   ]
  },
  {
   "cell_type": "code",
   "execution_count": null,
   "id": "f4b11b7a-bbcc-4ff8-9b00-850ea7898511",
   "metadata": {},
   "outputs": [],
   "source": [
    "## List all the scaffold FASTA files\n",
    "fasta_files <- list.files(pattern = \"\\\\.fasta$\", full.names = TRUE)\n"
   ]
  },
  {
   "cell_type": "code",
   "execution_count": null,
   "id": "9e1393ec-26ce-46cb-af80-f4eb68f6c133",
   "metadata": {},
   "outputs": [],
   "source": [
    "## Function to filter sequences shorter than 500 nucleotides\n",
    "filter_short_sequences <- function(file_path) {\n",
    "  # Read the sequences from the FASTA file\n",
    "  sequences <- readDNAStringSet(file_path)\n",
    "  \n",
    "  # Filter sequences shorter than 500 nucleotides\n",
    "  long_sequences <- sequences[nchar(sequences) >= 500]\n",
    "  \n",
    "  # Write the filtered sequences to a new FASTA file\n",
    "  writeXStringSet(long_sequences, file = paste0(tools::file_path_sans_ext(file_path), \"_filtered.fasta\"))\n",
    "}\n"
   ]
  },
  {
   "cell_type": "code",
   "execution_count": null,
   "id": "e05967df-02b5-4c8c-996e-c4947290a7d6",
   "metadata": {},
   "outputs": [],
   "source": [
    "## Apply the function to each FASTA file\n",
    "lapply(fasta_files, filter_short_sequences)"
   ]
  }
 ],
 "metadata": {
  "kernelspec": {
   "display_name": "R",
   "language": "R",
   "name": "ir"
  },
  "language_info": {
   "codemirror_mode": "r",
   "file_extension": ".r",
   "mimetype": "text/x-r-source",
   "name": "R",
   "pygments_lexer": "r",
   "version": "4.4.1"
  }
 },
 "nbformat": 4,
 "nbformat_minor": 5
}
