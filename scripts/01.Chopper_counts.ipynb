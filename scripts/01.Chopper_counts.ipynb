{
 "cells": [
  {
   "cell_type": "markdown",
   "id": "e8de7fc3-0c40-4ea1-919e-7cf5b6e22eb7",
   "metadata": {},
   "source": [
    "# 1. Counting Retained Reads with Chopper"
   ]
  },
  {
   "cell_type": "code",
   "execution_count": 1,
   "id": "48fd0ca3-797d-427c-8e44-2e8d715df2b4",
   "metadata": {},
   "outputs": [
    {
     "name": "stderr",
     "output_type": "stream",
     "text": [
      "\n",
      "Attaching package: ‘dplyr’\n",
      "\n",
      "\n",
      "The following objects are masked from ‘package:stats’:\n",
      "\n",
      "    filter, lag\n",
      "\n",
      "\n",
      "The following objects are masked from ‘package:base’:\n",
      "\n",
      "    intersect, setdiff, setequal, union\n",
      "\n",
      "\n"
     ]
    }
   ],
   "source": [
    "library(dplyr)\n",
    "library(ggplot2)\n",
    "library(reshape2)"
   ]
  },
  {
   "cell_type": "code",
   "execution_count": 2,
   "id": "c3682f64-30a1-4393-9b3e-5c7d8dd55db1",
   "metadata": {},
   "outputs": [],
   "source": [
    "setwd(\"~/Documents/Collaborations/mangrove/analyses_R\")"
   ]
  },
  {
   "cell_type": "code",
   "execution_count": 3,
   "id": "827c0ca8-f78c-4d29-adb6-cd7d2e909e23",
   "metadata": {},
   "outputs": [
    {
     "name": "stdout",
     "output_type": "stream",
     "text": [
      "[1] \"Raw files:\"\n",
      "[1] \"./Untrimmed/Sample-ID1-A1.fastq\" \"./Untrimmed/Sample-ID2-A2.fastq\"\n",
      "[3] \"./Untrimmed/Sample-ID3-A3.fastq\" \"./Untrimmed/Sample-ID4-A4.fastq\"\n",
      "[5] \"./Untrimmed/Sample-ID5-B1.fastq\" \"./Untrimmed/Sample-ID6-B2.fastq\"\n",
      "[7] \"./Untrimmed/Sample-ID7-B3.fastq\" \"./Untrimmed/Sample-ID8-B4.fastq\"\n",
      "[1] \"Filtered files:\"\n",
      "[1] \"./chopper_filter/Sample-ID1-A1_filtered.fastq\"\n",
      "[2] \"./chopper_filter/Sample-ID2-A2_filtered.fastq\"\n",
      "[3] \"./chopper_filter/Sample-ID3-A3_filtered.fastq\"\n",
      "[4] \"./chopper_filter/Sample-ID4-A4_filtered.fastq\"\n",
      "[5] \"./chopper_filter/Sample-ID5-B1_filtered.fastq\"\n",
      "[6] \"./chopper_filter/Sample-ID6-B2_filtered.fastq\"\n",
      "[7] \"./chopper_filter/Sample-ID7-B3_filtered.fastq\"\n",
      "[8] \"./chopper_filter/Sample-ID8-B4_filtered.fastq\"\n"
     ]
    }
   ],
   "source": [
    "# Define directories\n",
    "raw_dir <- \"./Untrimmed\"\n",
    "filt_dir <- \"./chopper_filter\"\n",
    "\n",
    "# Get list of raw and filtered FASTQ files\n",
    "raw_files <- list.files(raw_dir, pattern = \"\\\\.fastq$\", full.names = TRUE)\n",
    "filt_files <- list.files(filt_dir, pattern = \"_filtered\\\\.fastq$\", full.names = TRUE)\n",
    "\n",
    "print(\"Raw files:\")\n",
    "print(raw_files)\n",
    "\n",
    "print(\"Filtered files:\")\n",
    "print(filt_files)"
   ]
  },
  {
   "cell_type": "code",
   "execution_count": 4,
   "id": "8ca67829-dd10-444d-8ca6-47167ecc9f75",
   "metadata": {},
   "outputs": [
    {
     "name": "stdout",
     "output_type": "stream",
     "text": [
      "      ID_Sample raw_reads filt_reads\n",
      "1 Sample-ID1-A1      1742       1134\n",
      "2 Sample-ID2-A2      4344       2971\n",
      "3 Sample-ID3-A3      2890       1882\n",
      "4 Sample-ID4-A4      1628        965\n",
      "5 Sample-ID5-B1      2689       1686\n",
      "6 Sample-ID6-B2      3540       2375\n",
      "7 Sample-ID7-B3      1873       1231\n",
      "8 Sample-ID8-B4      2654       1693\n"
     ]
    }
   ],
   "source": [
    "# Function to count reads in a FASTQ file\n",
    "count_reads <- function(file) {\n",
    "  lines <- length(readLines(file))\n",
    "  return(lines / 4)  # Each read has 4 lines\n",
    "}\n",
    "\n",
    "# Create an empty data frame to store results\n",
    "results <- data.frame(ID_Sample = character(), raw_reads = integer(), filt_reads = integer())\n",
    "\n",
    "# Process each raw file\n",
    "for (raw_file in raw_files) {\n",
    "  # Extract sample ID\n",
    "  sample_id <- gsub(\"\\\\.fastq$\", \"\", basename(raw_file))\n",
    "  \n",
    "  # Define the corresponding filtered file\n",
    "  filt_file <- file.path(filt_dir, paste0(sample_id, \"_filtered.fastq\"))\n",
    "  \n",
    "  # Count reads\n",
    "  raw_count <- count_reads(raw_file)\n",
    "  filt_count <- if (file.exists(filt_file)) count_reads(filt_file) else NA\n",
    "  \n",
    "  # Append to results\n",
    "  results <- rbind(results, data.frame(ID_Sample = sample_id, raw_reads = raw_count, filt_reads = filt_count))\n",
    "}\n",
    "\n",
    "# Print results\n",
    "print(results)"
   ]
  },
  {
   "cell_type": "code",
   "execution_count": 5,
   "id": "508efb60-806e-4263-ac71-7ea2d4f9e27c",
   "metadata": {},
   "outputs": [],
   "source": [
    "write.table(results, file = \"read_counts_chopper\", , sep = \"\\t\", row.names = FALSE)"
   ]
  }
 ],
 "metadata": {
  "kernelspec": {
   "display_name": "R",
   "language": "R",
   "name": "ir"
  },
  "language_info": {
   "codemirror_mode": "r",
   "file_extension": ".r",
   "mimetype": "text/x-r-source",
   "name": "R",
   "pygments_lexer": "r",
   "version": "4.3.3"
  }
 },
 "nbformat": 4,
 "nbformat_minor": 5
}
