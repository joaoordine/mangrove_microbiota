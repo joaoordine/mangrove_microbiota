{
 "cells": [
  {
   "cell_type": "markdown",
   "id": "6315b033-5e53-44bb-a522-0cec21483ccb",
   "metadata": {},
   "source": [
    "# 6. Asign taxonomy to nanopore reads - SILVA db"
   ]
  },
  {
   "cell_type": "code",
   "execution_count": 1,
   "id": "f8ef2153-5071-43df-ab63-b4adb76a161d",
   "metadata": {},
   "outputs": [
    {
     "name": "stderr",
     "output_type": "stream",
     "text": [
      "── \u001b[1mAttaching core tidyverse packages\u001b[22m ──────────────────────────────────────────────────────────────────────────────────────────────────────────────────────────────────────────────────── tidyverse 2.0.0 ──\n",
      "\u001b[32m✔\u001b[39m \u001b[34mdplyr    \u001b[39m 1.1.4     \u001b[32m✔\u001b[39m \u001b[34mreadr    \u001b[39m 2.1.5\n",
      "\u001b[32m✔\u001b[39m \u001b[34mforcats  \u001b[39m 1.0.0     \u001b[32m✔\u001b[39m \u001b[34mstringr  \u001b[39m 1.5.1\n",
      "\u001b[32m✔\u001b[39m \u001b[34mggplot2  \u001b[39m 3.5.1     \u001b[32m✔\u001b[39m \u001b[34mtibble   \u001b[39m 3.2.1\n",
      "\u001b[32m✔\u001b[39m \u001b[34mlubridate\u001b[39m 1.9.4     \u001b[32m✔\u001b[39m \u001b[34mtidyr    \u001b[39m 1.3.1\n",
      "\u001b[32m✔\u001b[39m \u001b[34mpurrr    \u001b[39m 1.0.4     \n",
      "── \u001b[1mConflicts\u001b[22m ────────────────────────────────────────────────────────────────────────────────────────────────────────────────────────────────────────────────────────────────────── tidyverse_conflicts() ──\n",
      "\u001b[31m✖\u001b[39m \u001b[34mdplyr\u001b[39m::\u001b[32mfilter()\u001b[39m masks \u001b[34mstats\u001b[39m::filter()\n",
      "\u001b[31m✖\u001b[39m \u001b[34mdplyr\u001b[39m::\u001b[32mlag()\u001b[39m    masks \u001b[34mstats\u001b[39m::lag()\n",
      "\u001b[36mℹ\u001b[39m Use the conflicted package (\u001b[3m\u001b[34m<http://conflicted.r-lib.org/>\u001b[39m\u001b[23m) to force all conflicts to become errors\n"
     ]
    }
   ],
   "source": [
    "library(tidyverse) \n",
    "library(dplyr)\n",
    "library(ggplot2)\n",
    "library(ggpubr)\n",
    "library(forcats)"
   ]
  },
  {
   "cell_type": "code",
   "execution_count": 2,
   "id": "1e900417-92ca-48de-88f2-a3c2c0378f7f",
   "metadata": {},
   "outputs": [
    {
     "name": "stdout",
     "output_type": "stream",
     "text": [
      "[1] \"Working directory before:\"\n"
     ]
    },
    {
     "data": {
      "text/html": [
       "'/home/strawberry/Documents/Collaborations/mangrove/github'"
      ],
      "text/latex": [
       "'/home/strawberry/Documents/Collaborations/mangrove/github'"
      ],
      "text/markdown": [
       "'/home/strawberry/Documents/Collaborations/mangrove/github'"
      ],
      "text/plain": [
       "[1] \"/home/strawberry/Documents/Collaborations/mangrove/github\""
      ]
     },
     "metadata": {},
     "output_type": "display_data"
    },
    {
     "name": "stdout",
     "output_type": "stream",
     "text": [
      "[1] \"Working directory after:\"\n"
     ]
    },
    {
     "data": {
      "text/html": [
       "'/home/strawberry/Documents/Collaborations/mangrove/analyses_R'"
      ],
      "text/latex": [
       "'/home/strawberry/Documents/Collaborations/mangrove/analyses\\_R'"
      ],
      "text/markdown": [
       "'/home/strawberry/Documents/Collaborations/mangrove/analyses_R'"
      ],
      "text/plain": [
       "[1] \"/home/strawberry/Documents/Collaborations/mangrove/analyses_R\""
      ]
     },
     "metadata": {},
     "output_type": "display_data"
    }
   ],
   "source": [
    "print(\"Working directory before:\")\n",
    "getwd()\n",
    "\n",
    "setwd(\"~/Documents/Collaborations/mangrove/analyses_R\") # changing work directory to data \n",
    "print(\"Working directory after:\")\n",
    "getwd()"
   ]
  },
  {
   "cell_type": "code",
   "execution_count": 3,
   "id": "a3938e8b-45ff-4500-843d-8457264900f4",
   "metadata": {},
   "outputs": [
    {
     "name": "stdout",
     "output_type": "stream",
     "text": [
      "        id  Kingdom         Phylum               Class            Order\n",
      "1 AB000393 Bacteria Pseudomonadota Gammaproteobacteria Enterobacterales\n",
      "2 AB000480 Bacteria Pseudomonadota Alphaproteobacteria Rhodospirillales\n",
      "3 AB001783 Bacteria    Chlamydiota          Chlamydiia     Chlamydiales\n",
      "4 FZ423313 Bacteria      Bacillota             Bacilli       Bacillales\n",
      "5 HG529990 Bacteria   Bacteroidota         Bacteroidia     Cytophagales\n",
      "6 AB001778 Bacteria    Chlamydiota          Chlamydiia     Chlamydiales\n",
      "             Family             Genus                      Species\n",
      "1      Vibrionaceae            Vibrio           Vibrio halioticoli\n",
      "2 Rhodospirillaceae Insolitispirillum Insolitispirillum peregrinum\n",
      "3     Chlamydiaceae         Chlamydia            Chlamydia abortus\n",
      "4       Bacillaceae     Anoxybacillus                 unidentified\n",
      "5 Cyclobacteriaceae      Algoriphagus        Algoriphagus sp. AK58\n",
      "6     Chlamydiaceae         Chlamydia           Chlamydia psittaci\n",
      "      ID_Sample raw_reads filt_reads\n",
      "1 Sample-ID1-A1      1742       1134\n",
      "2 Sample-ID2-A2      4344       2971\n",
      "3 Sample-ID3-A3      2890       1882\n",
      "4 Sample-ID4-A4      1628        965\n",
      "5 Sample-ID5-B1      2689       1686\n",
      "6 Sample-ID6-B2      3540       2375\n",
      "  ID_Sample            ID   Mangrove Collection_month  pH OM  P  Ca  Mg    K\n",
      "1        A1 Sample-ID1-A1      Araçá        September 7.3 10 24  58  56 12.6\n",
      "2        A2 Sample-ID2-A2      Araçá        September 7.3 10 24  58  56 12.6\n",
      "3        A3 Sample-ID3-A3      Araçá        September 7.3 10 24  58  56 12.6\n",
      "4        A4 Sample-ID4-A4      Araçá        September 7.3 10 24  58  56 12.6\n",
      "5        B1 Sample-ID5-B1 Colhereiro          October 7.8 47 33 122 133 26.4\n",
      "6        B2 Sample-ID6-B2 Colhereiro          October 7.8 47 33 122 133 26.4\n",
      "  H.Al    SB CTC V. Number_Reads\n",
      "1    9 126.6 135 94         1134\n",
      "2    9 126.6 135 94         2971\n",
      "3    9 126.6 135 94         1882\n",
      "4    9 126.6 135 94          965\n",
      "5    9 281.4 289 97         1686\n",
      "6    9 281.4 289 97         2375\n"
     ]
    }
   ],
   "source": [
    "# Loading reference file \n",
    "SILVATaxID <- read.csv(\"./silva_taxonomy.csv\", h=T)\n",
    "SILVATaxID$id <- gsub(\"\\\\..*\", \"\", SILVATaxID$id) # Clean the 'id' column (remove everything after the first dot)\n",
    "print(head(SILVATaxID))\n",
    "\n",
    "# Loading metadata file (read counts before quality check, should be replaced)\n",
    "metadata <- read.delim(\"./metadata_nreads.tsv\", h=T) \n",
    "read_counts_chopper <- read.delim(\"./read_counts_chopper\", h=T)\n",
    "print(head(read_counts_chopper))\n",
    "\n",
    "## Replace nreads value to represent only reads retained after filtering\n",
    "metadata$Number_Reads <- read_counts_chopper$filt_reads[\n",
    "  match(metadata$ID, read_counts_chopper$ID_Sample)\n",
    "]\n",
    "\n",
    "print(head(metadata))"
   ]
  },
  {
   "cell_type": "code",
   "execution_count": 6,
   "id": "1085362d-16a4-4b49-a613-69048579b899",
   "metadata": {},
   "outputs": [
    {
     "data": {
      "text/html": [
       "<style>\n",
       ".list-inline {list-style: none; margin:0; padding: 0}\n",
       ".list-inline>li {display: inline-block}\n",
       ".list-inline>li:not(:last-child)::after {content: \"\\00b7\"; padding: 0 .5ex}\n",
       "</style>\n",
       "<ol class=list-inline><li>'Sample-ID1-A1_filtered_kma.frag'</li><li>'Sample-ID2-A2_filtered_kma.frag'</li><li>'Sample-ID3-A3_filtered_kma.frag'</li><li>'Sample-ID4-A4_filtered_kma.frag'</li><li>'Sample-ID5-B1_filtered_kma.frag'</li><li>'Sample-ID6-B2_filtered_kma.frag'</li><li>'Sample-ID7-B3_filtered_kma.frag'</li><li>'Sample-ID8-B4_filtered_kma.frag'</li></ol>\n"
      ],
      "text/latex": [
       "\\begin{enumerate*}\n",
       "\\item 'Sample-ID1-A1\\_filtered\\_kma.frag'\n",
       "\\item 'Sample-ID2-A2\\_filtered\\_kma.frag'\n",
       "\\item 'Sample-ID3-A3\\_filtered\\_kma.frag'\n",
       "\\item 'Sample-ID4-A4\\_filtered\\_kma.frag'\n",
       "\\item 'Sample-ID5-B1\\_filtered\\_kma.frag'\n",
       "\\item 'Sample-ID6-B2\\_filtered\\_kma.frag'\n",
       "\\item 'Sample-ID7-B3\\_filtered\\_kma.frag'\n",
       "\\item 'Sample-ID8-B4\\_filtered\\_kma.frag'\n",
       "\\end{enumerate*}\n"
      ],
      "text/markdown": [
       "1. 'Sample-ID1-A1_filtered_kma.frag'\n",
       "2. 'Sample-ID2-A2_filtered_kma.frag'\n",
       "3. 'Sample-ID3-A3_filtered_kma.frag'\n",
       "4. 'Sample-ID4-A4_filtered_kma.frag'\n",
       "5. 'Sample-ID5-B1_filtered_kma.frag'\n",
       "6. 'Sample-ID6-B2_filtered_kma.frag'\n",
       "7. 'Sample-ID7-B3_filtered_kma.frag'\n",
       "8. 'Sample-ID8-B4_filtered_kma.frag'\n",
       "\n",
       "\n"
      ],
      "text/plain": [
       "[1] \"Sample-ID1-A1_filtered_kma.frag\" \"Sample-ID2-A2_filtered_kma.frag\"\n",
       "[3] \"Sample-ID3-A3_filtered_kma.frag\" \"Sample-ID4-A4_filtered_kma.frag\"\n",
       "[5] \"Sample-ID5-B1_filtered_kma.frag\" \"Sample-ID6-B2_filtered_kma.frag\"\n",
       "[7] \"Sample-ID7-B3_filtered_kma.frag\" \"Sample-ID8-B4_filtered_kma.frag\""
      ]
     },
     "metadata": {},
     "output_type": "display_data"
    }
   ],
   "source": [
    "# Make a repository with kma output\n",
    "fragfiles <- list.files(\"./\", pattern = \".frag$\")\n",
    "fragfiles"
   ]
  },
  {
   "cell_type": "code",
   "execution_count": 7,
   "id": "0a383ce7-18a4-47eb-bc50-fc64b5b35122",
   "metadata": {},
   "outputs": [],
   "source": [
    "# Start with an empty dataframe\n",
    "dfall <- NULL  \n",
    "\n",
    "for(i in 1:length(fragfiles)){\n",
    "    \n",
    "# Load the .frag file\n",
    "tab <- read.delim(fragfiles[i], h = FALSE)\n",
    "# print(head(tab))\n",
    "\n",
    "# Extract per-read best hit info\n",
    "readID <- sub(\" .*\", \"\", tab$V7) # extract read ID\n",
    "template_id <- gsub(\"\\\\..*\", \"\", gsub(\"'\", \"\", tab$V6)) # extract template ID without version\n",
    "# head(readID)\n",
    "# head(template_id)\n",
    "\n",
    "# Build per-read hit table\n",
    "readhits <- data.frame(readID, template_id, stringsAsFactors = FALSE)\n",
    "# print(head(readhits))\n",
    "      \n",
    "# Remove duplicated reads (keeping only first hit per read)\n",
    "readhits_unique <- readhits[!duplicated(readhits$readID), ]\n",
    "# print(head(readhits_unique))\n",
    "\n",
    "# Count number of hits per template\n",
    "template_counts <- as.data.frame(table(readhits_unique$template_id))\n",
    "colnames(template_counts) <- c(\"id\", \"count\")\n",
    "# print(head(template_counts))\n",
    "\n",
    "# Merge with SILVA taxonomy\n",
    "template_tax <- merge(template_counts, SILVATaxID, by = \"id\")\n",
    "\n",
    "# Add sample ID (from file name — adjust as needed)\n",
    "ID_Sample <- gsub(\"_filtered_kma.frag$\", \"\", basename(fragfiles[i]))\n",
    "template_tax$ID_Sample <- ID_Sample\n",
    "    \n",
    "# Add total aligned reads and calculate relative abundance\n",
    "template_tax$total_aligned <- nrow(readhits_unique)\n",
    "template_tax$RelativeAbundance <- template_tax$count / template_tax$total_aligned * 100\n",
    "# head(template_tax)\n",
    "\n",
    "# Merge with metadata and calculate alignment efficiency\n",
    "template_tax_merge <- merge(template_tax, metadata, by.x = \"ID_Sample\", by.y = \"ID\")\n",
    "template_tax_merge$AlignmentEfficiency <- template_tax_merge$total_aligned / template_tax_merge$Number_Reads * 100\n",
    "# head(template_tax_merge)\n",
    "\n",
    "# Optional: store in cumulative df\n",
    "dfall <- rbind(dfall, template_tax_merge)\n",
    "}"
   ]
  },
  {
   "cell_type": "code",
   "execution_count": 8,
   "id": "54efef5e-a05f-4f0d-b966-64be41ad2d6d",
   "metadata": {},
   "outputs": [
    {
     "data": {
      "text/html": [
       "<style>\n",
       ".list-inline {list-style: none; margin:0; padding: 0}\n",
       ".list-inline>li {display: inline-block}\n",
       ".list-inline>li:not(:last-child)::after {content: \"\\00b7\"; padding: 0 .5ex}\n",
       "</style>\n",
       "<ol class=list-inline><li>'ID_Sample'</li><li>'id'</li><li>'count'</li><li>'Kingdom'</li><li>'Phylum'</li><li>'Class'</li><li>'Order'</li><li>'Family'</li><li>'Genus'</li><li>'Species'</li><li>'total_aligned'</li><li>'RelativeAbundance'</li><li>'ID_Sample.y'</li><li>'Mangrove'</li><li>'Collection_month'</li><li>'pH'</li><li>'OM'</li><li>'P'</li><li>'Ca'</li><li>'Mg'</li><li>'K'</li><li>'H.Al'</li><li>'SB'</li><li>'CTC'</li><li>'V.'</li><li>'Number_Reads'</li><li>'AlignmentEfficiency'</li></ol>\n"
      ],
      "text/latex": [
       "\\begin{enumerate*}\n",
       "\\item 'ID\\_Sample'\n",
       "\\item 'id'\n",
       "\\item 'count'\n",
       "\\item 'Kingdom'\n",
       "\\item 'Phylum'\n",
       "\\item 'Class'\n",
       "\\item 'Order'\n",
       "\\item 'Family'\n",
       "\\item 'Genus'\n",
       "\\item 'Species'\n",
       "\\item 'total\\_aligned'\n",
       "\\item 'RelativeAbundance'\n",
       "\\item 'ID\\_Sample.y'\n",
       "\\item 'Mangrove'\n",
       "\\item 'Collection\\_month'\n",
       "\\item 'pH'\n",
       "\\item 'OM'\n",
       "\\item 'P'\n",
       "\\item 'Ca'\n",
       "\\item 'Mg'\n",
       "\\item 'K'\n",
       "\\item 'H.Al'\n",
       "\\item 'SB'\n",
       "\\item 'CTC'\n",
       "\\item 'V.'\n",
       "\\item 'Number\\_Reads'\n",
       "\\item 'AlignmentEfficiency'\n",
       "\\end{enumerate*}\n"
      ],
      "text/markdown": [
       "1. 'ID_Sample'\n",
       "2. 'id'\n",
       "3. 'count'\n",
       "4. 'Kingdom'\n",
       "5. 'Phylum'\n",
       "6. 'Class'\n",
       "7. 'Order'\n",
       "8. 'Family'\n",
       "9. 'Genus'\n",
       "10. 'Species'\n",
       "11. 'total_aligned'\n",
       "12. 'RelativeAbundance'\n",
       "13. 'ID_Sample.y'\n",
       "14. 'Mangrove'\n",
       "15. 'Collection_month'\n",
       "16. 'pH'\n",
       "17. 'OM'\n",
       "18. 'P'\n",
       "19. 'Ca'\n",
       "20. 'Mg'\n",
       "21. 'K'\n",
       "22. 'H.Al'\n",
       "23. 'SB'\n",
       "24. 'CTC'\n",
       "25. 'V.'\n",
       "26. 'Number_Reads'\n",
       "27. 'AlignmentEfficiency'\n",
       "\n",
       "\n"
      ],
      "text/plain": [
       " [1] \"ID_Sample\"           \"id\"                  \"count\"              \n",
       " [4] \"Kingdom\"             \"Phylum\"              \"Class\"              \n",
       " [7] \"Order\"               \"Family\"              \"Genus\"              \n",
       "[10] \"Species\"             \"total_aligned\"       \"RelativeAbundance\"  \n",
       "[13] \"ID_Sample.y\"         \"Mangrove\"            \"Collection_month\"   \n",
       "[16] \"pH\"                  \"OM\"                  \"P\"                  \n",
       "[19] \"Ca\"                  \"Mg\"                  \"K\"                  \n",
       "[22] \"H.Al\"                \"SB\"                  \"CTC\"                \n",
       "[25] \"V.\"                  \"Number_Reads\"        \"AlignmentEfficiency\""
      ]
     },
     "metadata": {},
     "output_type": "display_data"
    }
   ],
   "source": [
    "colnames(dfall)"
   ]
  },
  {
   "cell_type": "code",
   "execution_count": 9,
   "id": "fc86935a-7521-49a9-a918-8efa5cbde035",
   "metadata": {},
   "outputs": [
    {
     "name": "stdout",
     "output_type": "stream",
     "text": [
      "[1] \"Relative Abundance:\"\n",
      "    Min.  1st Qu.   Median     Mean  3rd Qu.     Max. \n",
      " 0.03463  0.06124  0.08006  0.11038  0.09124 17.55594 \n",
      "[1] \"Alignment Efficency:\"\n",
      "   Min. 1st Qu.  Median    Mean 3rd Qu.    Max. \n",
      "  72.90   74.08   96.65   90.99   97.21   97.85 \n"
     ]
    }
   ],
   "source": [
    "print(\"Relative Abundance:\")\n",
    "print(summary(dfall$RelativeAbundance))\n",
    "\n",
    "print(\"Alignment Efficency:\")\n",
    "print(summary(dfall$AlignmentEfficiency))"
   ]
  },
  {
   "cell_type": "code",
   "execution_count": 10,
   "id": "eda25e3f-eb7e-4734-bf86-8d9995abd1b6",
   "metadata": {},
   "outputs": [
    {
     "name": "stdout",
     "output_type": "stream",
     "text": [
      "\u001b[90m# A tibble: 2 × 3\u001b[39m\n",
      "  Mangrove   mean_AlignmentEfficiency sd_AlignmentEfficiency\n",
      "  \u001b[3m\u001b[90m<chr>\u001b[39m\u001b[23m                         \u001b[3m\u001b[90m<dbl>\u001b[39m\u001b[23m                  \u001b[3m\u001b[90m<dbl>\u001b[39m\u001b[23m\n",
      "\u001b[90m1\u001b[39m Araçá                          89.6                  10.8 \n",
      "\u001b[90m2\u001b[39m Colhereiro                     92.4                   9.38\n"
     ]
    }
   ],
   "source": [
    "# Group samples and calculate annotation efficiency\n",
    "AlignmentEfficiency_mangrove <- dfall %>%\n",
    "  group_by(Mangrove) %>%\n",
    "  summarise(mean_AlignmentEfficiency = mean(AlignmentEfficiency, na.rm = TRUE),\n",
    "            sd_AlignmentEfficiency = sd(AlignmentEfficiency, na.rm = TRUE))\n",
    "print(AlignmentEfficiency_mangrove) "
   ]
  },
  {
   "cell_type": "code",
   "execution_count": 11,
   "id": "d0b8b8fa-cb0d-47cb-b47c-f1feb4e5c1f8",
   "metadata": {},
   "outputs": [
    {
     "data": {
      "image/png": "[encoded data removed]",
      "text/plain": [
       "plot without title"
      ]
     },
     "metadata": {
      "image/png": {
       "height": 420,
       "width": 420
      }
     },
     "output_type": "display_data"
    }
   ],
   "source": [
    "# Plot the frequence alignment distribution across groups\n",
    "freqalignment_A <- ggplot(AlignmentEfficiency_mangrove, \n",
    "       aes(x = fct_reorder(Mangrove, -mean_AlignmentEfficiency), y = mean_AlignmentEfficiency)) +\n",
    "  geom_bar(stat = \"identity\", fill = \"#69b3a2\") +\n",
    "  geom_errorbar(aes(ymin = mean_AlignmentEfficiency - sd_AlignmentEfficiency,\n",
    "                    ymax = mean_AlignmentEfficiency + sd_AlignmentEfficiency),\n",
    "                width = 0.2) +\n",
    "  theme_minimal() +\n",
    "  labs(title = \"Alignment Efficiency per Mangrove\",\n",
    "       y = \"Mean Alignment Efficiency (%)\",\n",
    "       x = \"Mangrove\") +\n",
    "  theme(axis.text.x = element_text(angle = 90, vjust = 0.5))\n",
    "freqalignment_A\n"
   ]
  },
  {
   "cell_type": "code",
   "execution_count": 12,
   "id": "480bbd7d-7f03-421d-9b30-be1f63c2f737",
   "metadata": {},
   "outputs": [],
   "source": [
    "metadata <- metadata %>%\n",
    "  select(-ID_Sample) %>%       # Remove the original ID_Sample column\n",
    "  rename(ID_Sample = ID)       # Rename ID to ID_Sample"
   ]
  },
  {
   "cell_type": "code",
   "execution_count": 13,
   "id": "51536409-afc4-4449-96c3-a1b198c31432",
   "metadata": {},
   "outputs": [
    {
     "data": {
      "text/html": [
       "<table class=\"dataframe\">\n",
       "<caption>A data.frame: 6 × 14</caption>\n",
       "<thead>\n",
       "\t<tr><th></th><th scope=col>ID_Sample</th><th scope=col>Mangrove</th><th scope=col>Collection_month</th><th scope=col>pH</th><th scope=col>OM</th><th scope=col>P</th><th scope=col>Ca</th><th scope=col>Mg</th><th scope=col>K</th><th scope=col>H.Al</th><th scope=col>SB</th><th scope=col>CTC</th><th scope=col>V.</th><th scope=col>Number_Reads</th></tr>\n",
       "\t<tr><th></th><th scope=col>&lt;chr&gt;</th><th scope=col>&lt;chr&gt;</th><th scope=col>&lt;chr&gt;</th><th scope=col>&lt;dbl&gt;</th><th scope=col>&lt;int&gt;</th><th scope=col>&lt;int&gt;</th><th scope=col>&lt;int&gt;</th><th scope=col>&lt;int&gt;</th><th scope=col>&lt;dbl&gt;</th><th scope=col>&lt;int&gt;</th><th scope=col>&lt;dbl&gt;</th><th scope=col>&lt;int&gt;</th><th scope=col>&lt;int&gt;</th><th scope=col>&lt;int&gt;</th></tr>\n",
       "</thead>\n",
       "<tbody>\n",
       "\t<tr><th scope=row>1</th><td>Sample-ID1-A1</td><td>Araçá     </td><td>September</td><td>7.3</td><td>10</td><td>24</td><td> 58</td><td> 56</td><td>12.6</td><td>9</td><td>126.6</td><td>135</td><td>94</td><td>1134</td></tr>\n",
       "\t<tr><th scope=row>2</th><td>Sample-ID2-A2</td><td>Araçá     </td><td>September</td><td>7.3</td><td>10</td><td>24</td><td> 58</td><td> 56</td><td>12.6</td><td>9</td><td>126.6</td><td>135</td><td>94</td><td>2971</td></tr>\n",
       "\t<tr><th scope=row>3</th><td>Sample-ID3-A3</td><td>Araçá     </td><td>September</td><td>7.3</td><td>10</td><td>24</td><td> 58</td><td> 56</td><td>12.6</td><td>9</td><td>126.6</td><td>135</td><td>94</td><td>1882</td></tr>\n",
       "\t<tr><th scope=row>4</th><td>Sample-ID4-A4</td><td>Araçá     </td><td>September</td><td>7.3</td><td>10</td><td>24</td><td> 58</td><td> 56</td><td>12.6</td><td>9</td><td>126.6</td><td>135</td><td>94</td><td> 965</td></tr>\n",
       "\t<tr><th scope=row>5</th><td>Sample-ID5-B1</td><td>Colhereiro</td><td>October  </td><td>7.8</td><td>47</td><td>33</td><td>122</td><td>133</td><td>26.4</td><td>9</td><td>281.4</td><td>289</td><td>97</td><td>1686</td></tr>\n",
       "\t<tr><th scope=row>6</th><td>Sample-ID6-B2</td><td>Colhereiro</td><td>October  </td><td>7.8</td><td>47</td><td>33</td><td>122</td><td>133</td><td>26.4</td><td>9</td><td>281.4</td><td>289</td><td>97</td><td>2375</td></tr>\n",
       "</tbody>\n",
       "</table>\n"
      ],
      "text/latex": [
       "A data.frame: 6 × 14\n",
       "\\begin{tabular}{r|llllllllllllll}\n",
       "  & ID\\_Sample & Mangrove & Collection\\_month & pH & OM & P & Ca & Mg & K & H.Al & SB & CTC & V. & Number\\_Reads\\\\\n",
       "  & <chr> & <chr> & <chr> & <dbl> & <int> & <int> & <int> & <int> & <dbl> & <int> & <dbl> & <int> & <int> & <int>\\\\\n",
       "\\hline\n",
       "\t1 & Sample-ID1-A1 & Araçá      & September & 7.3 & 10 & 24 &  58 &  56 & 12.6 & 9 & 126.6 & 135 & 94 & 1134\\\\\n",
       "\t2 & Sample-ID2-A2 & Araçá      & September & 7.3 & 10 & 24 &  58 &  56 & 12.6 & 9 & 126.6 & 135 & 94 & 2971\\\\\n",
       "\t3 & Sample-ID3-A3 & Araçá      & September & 7.3 & 10 & 24 &  58 &  56 & 12.6 & 9 & 126.6 & 135 & 94 & 1882\\\\\n",
       "\t4 & Sample-ID4-A4 & Araçá      & September & 7.3 & 10 & 24 &  58 &  56 & 12.6 & 9 & 126.6 & 135 & 94 &  965\\\\\n",
       "\t5 & Sample-ID5-B1 & Colhereiro & October   & 7.8 & 47 & 33 & 122 & 133 & 26.4 & 9 & 281.4 & 289 & 97 & 1686\\\\\n",
       "\t6 & Sample-ID6-B2 & Colhereiro & October   & 7.8 & 47 & 33 & 122 & 133 & 26.4 & 9 & 281.4 & 289 & 97 & 2375\\\\\n",
       "\\end{tabular}\n"
      ],
      "text/markdown": [
       "\n",
       "A data.frame: 6 × 14\n",
       "\n",
       "| <!--/--> | ID_Sample &lt;chr&gt; | Mangrove &lt;chr&gt; | Collection_month &lt;chr&gt; | pH &lt;dbl&gt; | OM &lt;int&gt; | P &lt;int&gt; | Ca &lt;int&gt; | Mg &lt;int&gt; | K &lt;dbl&gt; | H.Al &lt;int&gt; | SB &lt;dbl&gt; | CTC &lt;int&gt; | V. &lt;int&gt; | Number_Reads &lt;int&gt; |\n",
       "|---|---|---|---|---|---|---|---|---|---|---|---|---|---|---|\n",
       "| 1 | Sample-ID1-A1 | Araçá      | September | 7.3 | 10 | 24 |  58 |  56 | 12.6 | 9 | 126.6 | 135 | 94 | 1134 |\n",
       "| 2 | Sample-ID2-A2 | Araçá      | September | 7.3 | 10 | 24 |  58 |  56 | 12.6 | 9 | 126.6 | 135 | 94 | 2971 |\n",
       "| 3 | Sample-ID3-A3 | Araçá      | September | 7.3 | 10 | 24 |  58 |  56 | 12.6 | 9 | 126.6 | 135 | 94 | 1882 |\n",
       "| 4 | Sample-ID4-A4 | Araçá      | September | 7.3 | 10 | 24 |  58 |  56 | 12.6 | 9 | 126.6 | 135 | 94 |  965 |\n",
       "| 5 | Sample-ID5-B1 | Colhereiro | October   | 7.8 | 47 | 33 | 122 | 133 | 26.4 | 9 | 281.4 | 289 | 97 | 1686 |\n",
       "| 6 | Sample-ID6-B2 | Colhereiro | October   | 7.8 | 47 | 33 | 122 | 133 | 26.4 | 9 | 281.4 | 289 | 97 | 2375 |\n",
       "\n"
      ],
      "text/plain": [
       "  ID_Sample     Mangrove   Collection_month pH  OM P  Ca  Mg  K    H.Al SB   \n",
       "1 Sample-ID1-A1 Araçá      September        7.3 10 24  58  56 12.6 9    126.6\n",
       "2 Sample-ID2-A2 Araçá      September        7.3 10 24  58  56 12.6 9    126.6\n",
       "3 Sample-ID3-A3 Araçá      September        7.3 10 24  58  56 12.6 9    126.6\n",
       "4 Sample-ID4-A4 Araçá      September        7.3 10 24  58  56 12.6 9    126.6\n",
       "5 Sample-ID5-B1 Colhereiro October          7.8 47 33 122 133 26.4 9    281.4\n",
       "6 Sample-ID6-B2 Colhereiro October          7.8 47 33 122 133 26.4 9    281.4\n",
       "  CTC V. Number_Reads\n",
       "1 135 94 1134        \n",
       "2 135 94 2971        \n",
       "3 135 94 1882        \n",
       "4 135 94  965        \n",
       "5 289 97 1686        \n",
       "6 289 97 2375        "
      ]
     },
     "metadata": {},
     "output_type": "display_data"
    }
   ],
   "source": [
    "head(metadata)"
   ]
  },
  {
   "cell_type": "code",
   "execution_count": 14,
   "id": "cf176856-e085-4098-aa13-1bb288ec4dba",
   "metadata": {},
   "outputs": [],
   "source": [
    "write.table(dfall, \"ReadCounts_TaxAnnotation_SILVA.tsv\", quote = F, sep = \"\\t\", row.names = F)\n",
    "write.table(metadata, \"metadata_full_clean.tsv\", quote = F, sep = \"\\t\", row.names = F)"
   ]
  }
 ],
 "metadata": {
  "kernelspec": {
   "display_name": "R",
   "language": "R",
   "name": "ir"
  },
  "language_info": {
   "codemirror_mode": "r",
   "file_extension": ".r",
   "mimetype": "text/x-r-source",
   "name": "R",
   "pygments_lexer": "r",
   "version": "4.3.3"
  }
 },
 "nbformat": 4,
 "nbformat_minor": 5
}
