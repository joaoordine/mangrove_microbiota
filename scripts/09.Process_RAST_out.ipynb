{
 "cells": [
  {
   "cell_type": "code",
   "execution_count": null,
   "id": "4b51f0a2-4339-4d9a-910d-3070b4fe1a69",
   "metadata": {},
   "outputs": [],
   "source": [
    "library(dplyr)\n",
    "library(tidyverse)\n"
   ]
  },
  {
   "cell_type": "code",
   "execution_count": null,
   "id": "415b672c-35a1-44f8-8574-f32596c173a7",
   "metadata": {},
   "outputs": [],
   "source": [
    "## Load the two TSV files into R (the category table and the feature table for each isolate)\n",
    "features_SA1 <- read_tsv(\"/home/strawberry/Documents/Collaborations/mangrove/RAST-genome_mining/features_SA1.tsv\")  \n",
    "features_SA6 <- read_tsv(\"/home/strawberry/Documents/Collaborations/mangrove/RAST-genome_mining/features_SA6.tsv\")\n",
    "features_SB1 <- read_tsv(\"/home/strawberry/Documents/Collaborations/mangrove/RAST-genome_mining/features_SB1.tsv\")\n",
    "features_SB8 <- read_tsv(\"/home/strawberry/Documents/Collaborations/mangrove/RAST-genome_mining/features_SB8.tsv\")\n",
    "features_WA5 <- read_tsv(\"/home/strawberry/Documents/Collaborations/mangrove/RAST-genome_mining/features_WA5.tsv\")\n",
    "features_WB3 <- read_tsv(\"/home/strawberry/Documents/Collaborations/mangrove/RAST-genome_mining/features_WB3.tsv\")\n",
    "features_WB8 <- read_tsv(\"/home/strawberry/Documents/Collaborations/mangrove/RAST-genome_mining/features_WB8.tsv\")\n",
    "SA1_df <- read_tsv(\"/home/strawberry/Documents/Collaborations/mangrove/RAST-genome_mining/SA1_df.tsv\")\n",
    "SA6_df <- read_tsv(\"/home/strawberry/Documents/Collaborations/mangrove/RAST-genome_mining/SA6_df.tsv\")\n",
    "SB1_df <- read_tsv(\"/home/strawberry/Documents/Collaborations/mangrove/RAST-genome_mining/SB1_df.tsv\")\n",
    "SB8_df <- read_tsv(\"/home/strawberry/Documents/Collaborations/mangrove/RAST-genome_mining/SB8_df.tsv\")\n",
    "WA5_df <- read_tsv(\"/home/strawberry/Documents/Collaborations/mangrove/RAST-genome_mining/WA5_df.tsv\")\n",
    "WB3_df <- read_tsv(\"/home/strawberry/Documents/Collaborations/mangrove/RAST-genome_mining/WB3_df.tsv\")\n",
    "WB8_df <- read_tsv(\"/home/strawberry/Documents/Collaborations/mangrove/RAST-genome_mining/WB8_df.tsv\")"
   ]
  },
  {
   "cell_type": "code",
   "execution_count": null,
   "id": "a4497411-eaa3-47d8-bcfe-e3ec113205cd",
   "metadata": {},
   "outputs": [],
   "source": [
    "## Remove NA columns \n",
    "clean_na_columns <- function(df) {\n",
    "  df %>%\n",
    "    select_if(~ !all(is.na(.)))\n",
    "} # function to remove NA columns\n",
    "\n",
    "features_SA1 <- clean_na_columns(features_SA1)\n",
    "features_SA6 <- clean_na_columns(features_SA6)\n",
    "features_SB1 <- clean_na_columns(features_SB1)\n",
    "features_SB8 <- clean_na_columns(features_SB8)\n",
    "features_WA5 <- clean_na_columns(features_WA5)\n",
    "features_WB3 <- clean_na_columns(features_WB3)\n",
    "features_WB8 <- clean_na_columns(features_WB8)\n",
    "SA1_df <- clean_na_columns(SA1_df)\n",
    "SA6_df <- clean_na_columns(SA6_df)\n",
    "SB1_df <- clean_na_columns(SB1_df)\n",
    "SB8_df <- clean_na_columns(SB8_df)\n",
    "WA5_df <- clean_na_columns(WA5_df)\n",
    "WB3_df <- clean_na_columns(WB3_df)\n",
    "WB8_df <- clean_na_columns(WB8_df) # apply the function to each dataframe "
   ]
  },
  {
   "cell_type": "code",
   "execution_count": null,
   "id": "8d9f845a-a462-43b4-a123-19af6fc344a9",
   "metadata": {},
   "outputs": [],
   "source": [
    "## Make 'Features' column in long format, separating each feature identified using commas\n",
    "make_long_format <- function(df) {\n",
    "  df %>%\n",
    "    separate_rows(Features, sep = \",\")\n",
    "} # Function to make 'Features' column in long format\n",
    "\n",
    "SA1_df <- make_long_format(SA1_df)\n",
    "SA6_df <- make_long_format(SA6_df)\n",
    "SB1_df <- make_long_format(SB1_df)\n",
    "SB8_df <- make_long_format(SB8_df)\n",
    "WA5_df <- make_long_format(WA5_df)\n",
    "WB3_df <- make_long_format(WB3_df)\n",
    "WB8_df <- make_long_format(WB8_df)\n"
   ]
  },
  {
   "cell_type": "code",
   "execution_count": null,
   "id": "58e4e9a3-eff4-4de0-a3b0-982ff1b759bd",
   "metadata": {},
   "outputs": [],
   "source": [
    "## Rename features column so it has the same name on both dataframes \n",
    "rename_features <- function(df) {\n",
    "  df %>%\n",
    "    rename(Features = `Feature ID`)\n",
    "}\n"
   ]
  },
  {
   "cell_type": "code",
   "execution_count": null,
   "id": "e17bfd0e-8d89-40db-ad64-8d53f86459de",
   "metadata": {},
   "outputs": [],
   "source": [
    "## Merge both dataframes in rows where there's a match between features in both dataframes, filtering out columns I'm not interested in \n",
    "columns_to_keep <- c(\"Category\", \"Subsystem\", \"Role\",  \"Contig\", \"Start\", \"Stop\")  # Define the columns to keep\n",
    "\n",
    "merged_SA1 <- inner_join(SA1_df, features_SA1, by = \"Features\") %>% select(all_of(columns_to_keep))\n",
    "merged_SA6 <- inner_join(SA6_df, features_SA6, by = \"Features\") %>% select(all_of(columns_to_keep))\n",
    "merged_SB1 <- inner_join(SB1_df, features_SB1, by = \"Features\") %>% select(all_of(columns_to_keep))\n",
    "merged_SB8 <- inner_join(SB8_df, features_SB8, by = \"Features\") %>% select(all_of(columns_to_keep))\n",
    "merged_WA5 <- inner_join(WA5_df, features_WA5, by = \"Features\") %>% select(all_of(columns_to_keep))\n",
    "merged_WB3 <- inner_join(WB3_df, features_WB3, by = \"Features\") %>% select(all_of(columns_to_keep))\n",
    "merged_WB8 <- inner_join(WB8_df, features_WB8, by = \"Features\") %>% select(all_of(columns_to_keep))\n"
   ]
  },
  {
   "cell_type": "code",
   "execution_count": null,
   "id": "d6295df0-8bf1-4a3e-a25d-8c687555c942",
   "metadata": {},
   "outputs": [],
   "source": [
    "## Save them as tsv files \n",
    "write_tsv(merged_SA1, \"genome_mining_SA1.tsv\")\n",
    "write_tsv(merged_SA6, \"genome_mining_SA6.tsv\")\n",
    "write_tsv(merged_SB1, \"genome_mining_SB1.tsv\")\n",
    "write_tsv(merged_SB8, \"genome_mining_SB8.tsv\")\n",
    "write_tsv(merged_WA5, \"genome_mining_WA5.tsv\")\n",
    "write_tsv(merged_WB3, \"genome_mining_WB3.tsv\")\n",
    "write_tsv(merged_WB8, \"genome_mining_WB8.tsv\")"
   ]
  }
 ],
 "metadata": {
  "kernelspec": {
   "display_name": "R",
   "language": "R",
   "name": "ir"
  },
  "language_info": {
   "codemirror_mode": "r",
   "file_extension": ".r",
   "mimetype": "text/x-r-source",
   "name": "R",
   "pygments_lexer": "r",
   "version": "4.4.1"
  }
 },
 "nbformat": 4,
 "nbformat_minor": 5
}
