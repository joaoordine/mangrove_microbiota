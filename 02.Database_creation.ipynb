{
 "cells": [
  {
   "cell_type": "markdown",
   "id": "6697696a-7919-419b-9e32-a6b4ebc4812a",
   "metadata": {},
   "source": [
    "# Custom database creation - Refseq NCBI 16S sequences - as Zaramela did "
   ]
  },
  {
   "cell_type": "code",
   "execution_count": null,
   "id": "8492e3ee-4221-40df-affa-507e1256fba8",
   "metadata": {},
   "outputs": [],
   "source": [
    "# Parsing Refseq16S Database\n",
    "## Extract full lineage from NCBI database\n",
    "library(tidyverse) \n",
    "\n",
    "## Loading reference file (linking refseq accession number and taxID); Reference file was obtained by parsing gff3 file provided by NCBI  \n",
    "RefseqTaxID <- read.delim(\"data/RefseqTaxID.txt\", h=T)\n",
    "\n",
    "tmp <- readLines(\"data/rankedlineage.dmp\") # File obtained from NCBI refseq16S. It reads the contents of the file and stores it into tmp variable\n",
    "bac <- grep(\"Bacteria\", tmp) \n",
    "tax <- tmp[bac] # Filtering Lines Containing \"Bacteria\"; 'tax' now contains only the lines from tmp that contain the string \"Bacteria\"\n",
    "tax <- tax[1:552981] #last line contain invalid configuration\n",
    "\n",
    "taxtable = NULL # it initializes an empty data frame named taxtable to store the taxonomic information extracted from the lines\n",
    "\n",
    "for(i in 1:length(tax)){\n",
    "    tax1 <- gsub(\"\\t\", \"\", strsplit(tax[i],split = \"\\\\|\")[[1]]) # It splits each line using the \"|\" character as a delimiter and removes any tab characters. To avoid the vertical bar (|) to be interpreted as an escape sequence in your character string (not recognize), I added another `\\` to ensure that the vertical bar will be read as a character \n",
    "    tax1[tax1 == \"\"] <- NA # replaces empty strings with NA, indicating missing values\n",
    "    tax2 <- strsplit(tax1[2],split = \" \")[[1]]\n",
    "    if(length(tax2) >= 2){tax1[3] <- paste0(tax2[1], \" \", tax2[2])} \n",
    "    if(length(tax2) < 2){tax1[3] <- tax1[3]} # extracts the species name and ensures it is correctly formatted. If the species name consists of two or more words, it combines them into a single string separated by a space, if the species names is one word, it remains unchanged\n",
    "    tax3 = data.frame(id = tax1[1],\n",
    "                      name = tax1[2],\n",
    "                      Species = tax1[3],\n",
    "                      Genus = tax1[4],\n",
    "                      Family = tax1[5],\n",
    "                      Order = tax1[6],\n",
    "                      Class = tax1[7],\n",
    "                      Phylum = tax1[8],\n",
    "                      Kingdom = tax1[9],\n",
    "                      Domain = tax1[10])\n",
    "    taxtable <- rbind(taxtable, tax3) # creates a data frame (tax3) containing taxonomic information extracted from each line.\n",
    "} # this loop takes a long time to run (> 5hours), so no FREAKING OUT, just chill\n",
    "write.table(taxtable, \"referencetable_taxonomy_RefseqNCBI_16S.txt\", quote = F, sep = \"\\t\", row.names = F)\n"
   ]
  }
 ],
 "metadata": {
  "kernelspec": {
   "display_name": "R",
   "language": "R",
   "name": "ir"
  },
  "language_info": {
   "codemirror_mode": "r",
   "file_extension": ".r",
   "mimetype": "text/x-r-source",
   "name": "R",
   "pygments_lexer": "r",
   "version": "4.4.1"
  }
 },
 "nbformat": 4,
 "nbformat_minor": 5
}
